{
 "cells": [
  {
   "cell_type": "markdown",
   "id": "8829f847",
   "metadata": {},
   "source": [
    "# Importing Modules"
   ]
  },
  {
   "cell_type": "code",
   "execution_count": 1,
   "id": "a2731a4e",
   "metadata": {},
   "outputs": [],
   "source": [
    "import numpy as np\n",
    "import pandas as pd\n",
    "import matplotlib.pyplot as plt\n",
    "import seaborn as sns\n",
    "import warnings\n",
    "warnings.filterwarnings('ignore')"
   ]
  },
  {
   "cell_type": "markdown",
   "id": "69481a62",
   "metadata": {},
   "source": [
    "# Loading MNIST dataset from tensorflow"
   ]
  },
  {
   "cell_type": "code",
   "execution_count": 2,
   "id": "702e9cd0",
   "metadata": {},
   "outputs": [],
   "source": [
    "from tensorflow.keras.datasets import mnist"
   ]
  },
  {
   "cell_type": "code",
   "execution_count": 3,
   "id": "c4aaaf4f",
   "metadata": {},
   "outputs": [],
   "source": [
    "(X_train, y_train), (X_test, y_test) = mnist.load_data()"
   ]
  },
  {
   "cell_type": "code",
   "execution_count": 4,
   "id": "9e3b425e",
   "metadata": {},
   "outputs": [
    {
     "name": "stdout",
     "output_type": "stream",
     "text": [
      "X_train: (60000, 28, 28)\n",
      "y_train: (60000,)\n",
      "X_test: (10000, 28, 28)\n",
      "y_test: (10000,)\n"
     ]
    }
   ],
   "source": [
    "print(f\"X_train: {X_train.shape}\")\n",
    "print(f\"y_train: {y_train.shape}\")\n",
    "print(f\"X_test: {X_test.shape}\")\n",
    "print(f\"y_test: {y_test.shape}\")"
   ]
  },
  {
   "cell_type": "code",
   "execution_count": 5,
   "id": "2748af6b",
   "metadata": {},
   "outputs": [],
   "source": [
    "X_train = X_train.flatten().reshape(60000,784)\n",
    "X_test =  X_test.flatten().reshape(10000,784)"
   ]
  },
  {
   "cell_type": "code",
   "execution_count": 6,
   "id": "1f7d0b1e",
   "metadata": {},
   "outputs": [],
   "source": [
    "def displayimage(image,label):\n",
    "    image = image.reshape(28,28)\n",
    "    plt.imshow(image)\n",
    "    plt.title(f\"Image Representation for {label}\")\n",
    "    plt.show()"
   ]
  },
  {
   "cell_type": "code",
   "execution_count": 7,
   "id": "2a2e833f",
   "metadata": {},
   "outputs": [
    {
     "data": {
      "image/png": "[encoded data removed]",
      "text/plain": [
       "<Figure size 432x288 with 1 Axes>"
      ]
     },
     "metadata": {
      "needs_background": "light"
     },
     "output_type": "display_data"
    },
    {
     "data": {
      "image/png": "[encoded data removed]",
      "text/plain": [
       "<Figure size 432x288 with 1 Axes>"
      ]
     },
     "metadata": {
      "needs_background": "light"
     },
     "output_type": "display_data"
    },
    {
     "data": {
      "image/png": "[encoded data removed]",
      "text/plain": [
       "<Figure size 432x288 with 1 Axes>"
      ]
     },
     "metadata": {
      "needs_background": "light"
     },
     "output_type": "display_data"
    }
   ],
   "source": [
    "for i in range(3):\n",
    "    displayimage(X_train[i],y_train[i])"
   ]
  },
  {
   "cell_type": "markdown",
   "id": "fe51a590",
   "metadata": {},
   "source": [
    "# Logistic Regression"
   ]
  },
  {
   "cell_type": "code",
   "execution_count": 8,
   "id": "ac19b741",
   "metadata": {},
   "outputs": [],
   "source": [
    "from sklearn.linear_model import LogisticRegression"
   ]
  },
  {
   "cell_type": "code",
   "execution_count": 9,
   "id": "4b815a83",
   "metadata": {},
   "outputs": [],
   "source": [
    "log_model = LogisticRegression()"
   ]
  },
  {
   "cell_type": "code",
   "execution_count": 10,
   "id": "796dd116",
   "metadata": {},
   "outputs": [
    {
     "data": {
      "text/plain": [
       "LogisticRegression()"
      ]
     },
     "execution_count": 10,
     "metadata": {},
     "output_type": "execute_result"
    }
   ],
   "source": [
    "log_model.fit(X_train,y_train)"
   ]
  },
  {
   "cell_type": "code",
   "execution_count": 11,
   "id": "4fe094da",
   "metadata": {},
   "outputs": [],
   "source": [
    "Logistic_predictions = log_model.predict(X_test)"
   ]
  },
  {
   "cell_type": "code",
   "execution_count": 12,
   "id": "327b6031",
   "metadata": {},
   "outputs": [
    {
     "data": {
      "text/plain": [
       "array([7, 2, 1, ..., 4, 5, 6], dtype=uint8)"
      ]
     },
     "execution_count": 12,
     "metadata": {},
     "output_type": "execute_result"
    }
   ],
   "source": [
    "Logistic_predictions"
   ]
  },
  {
   "cell_type": "code",
   "execution_count": 22,
   "id": "722a5365",
   "metadata": {},
   "outputs": [],
   "source": [
    "from sklearn.metrics import confusion_matrix, classification_report, accuracy_score"
   ]
  },
  {
   "cell_type": "code",
   "execution_count": 18,
   "id": "93c43adb",
   "metadata": {},
   "outputs": [
    {
     "data": {
      "text/plain": [
       "array([[ 963,    0,    0,    3,    1,    3,    4,    4,    2,    0],\n",
       "       [   0, 1112,    4,    2,    0,    1,    3,    2,   11,    0],\n",
       "       [   3,   10,  926,   15,    6,    4,   15,    8,   42,    3],\n",
       "       [   4,    1,   21,  916,    1,   26,    3,    9,   22,    7],\n",
       "       [   1,    1,    7,    3,  910,    0,    9,    7,   10,   34],\n",
       "       [  11,    2,    1,   33,   11,  776,   11,    6,   35,    6],\n",
       "       [   9,    3,    7,    3,    7,   16,  910,    2,    1,    0],\n",
       "       [   1,    6,   24,    5,    7,    1,    0,  951,    3,   30],\n",
       "       [   8,    7,    6,   23,    6,   26,   10,   10,  869,    9],\n",
       "       [   9,    7,    0,   11,   25,    6,    0,   22,    7,  922]],\n",
       "      dtype=int64)"
      ]
     },
     "execution_count": 18,
     "metadata": {},
     "output_type": "execute_result"
    }
   ],
   "source": [
    "Logistic_confusionMatrix = confusion_matrix(y_test,Logistic_predictions)\n",
    "Logistic_confusionMatrix"
   ]
  },
  {
   "cell_type": "code",
   "execution_count": 19,
   "id": "aa39e46e",
   "metadata": {},
   "outputs": [
    {
     "data": {
      "text/html": [
       "<div>\n",
       "<style scoped>\n",
       "    .dataframe tbody tr th:only-of-type {\n",
       "        vertical-align: middle;\n",
       "    }\n",
       "\n",
       "    .dataframe tbody tr th {\n",
       "        vertical-align: top;\n",
       "    }\n",
       "\n",
       "    .dataframe thead th {\n",
       "        text-align: right;\n",
       "    }\n",
       "</style>\n",
       "<table border=\"1\" class=\"dataframe\">\n",
       "  <thead>\n",
       "    <tr style=\"text-align: right;\">\n",
       "      <th></th>\n",
       "      <th>precision</th>\n",
       "      <th>recall</th>\n",
       "      <th>f1-score</th>\n",
       "      <th>support</th>\n",
       "    </tr>\n",
       "  </thead>\n",
       "  <tbody>\n",
       "    <tr>\n",
       "      <th>0</th>\n",
       "      <td>0.954410</td>\n",
       "      <td>0.982653</td>\n",
       "      <td>0.968326</td>\n",
       "      <td>980.0000</td>\n",
       "    </tr>\n",
       "    <tr>\n",
       "      <th>1</th>\n",
       "      <td>0.967798</td>\n",
       "      <td>0.979736</td>\n",
       "      <td>0.973730</td>\n",
       "      <td>1135.0000</td>\n",
       "    </tr>\n",
       "    <tr>\n",
       "      <th>2</th>\n",
       "      <td>0.929719</td>\n",
       "      <td>0.897287</td>\n",
       "      <td>0.913215</td>\n",
       "      <td>1032.0000</td>\n",
       "    </tr>\n",
       "    <tr>\n",
       "      <th>3</th>\n",
       "      <td>0.903353</td>\n",
       "      <td>0.906931</td>\n",
       "      <td>0.905138</td>\n",
       "      <td>1010.0000</td>\n",
       "    </tr>\n",
       "    <tr>\n",
       "      <th>4</th>\n",
       "      <td>0.934292</td>\n",
       "      <td>0.926680</td>\n",
       "      <td>0.930470</td>\n",
       "      <td>982.0000</td>\n",
       "    </tr>\n",
       "    <tr>\n",
       "      <th>5</th>\n",
       "      <td>0.903376</td>\n",
       "      <td>0.869955</td>\n",
       "      <td>0.886351</td>\n",
       "      <td>892.0000</td>\n",
       "    </tr>\n",
       "    <tr>\n",
       "      <th>6</th>\n",
       "      <td>0.943005</td>\n",
       "      <td>0.949896</td>\n",
       "      <td>0.946438</td>\n",
       "      <td>958.0000</td>\n",
       "    </tr>\n",
       "    <tr>\n",
       "      <th>7</th>\n",
       "      <td>0.931440</td>\n",
       "      <td>0.925097</td>\n",
       "      <td>0.928258</td>\n",
       "      <td>1028.0000</td>\n",
       "    </tr>\n",
       "    <tr>\n",
       "      <th>8</th>\n",
       "      <td>0.867265</td>\n",
       "      <td>0.892197</td>\n",
       "      <td>0.879555</td>\n",
       "      <td>974.0000</td>\n",
       "    </tr>\n",
       "    <tr>\n",
       "      <th>9</th>\n",
       "      <td>0.911968</td>\n",
       "      <td>0.913776</td>\n",
       "      <td>0.912871</td>\n",
       "      <td>1009.0000</td>\n",
       "    </tr>\n",
       "    <tr>\n",
       "      <th>accuracy</th>\n",
       "      <td>0.925500</td>\n",
       "      <td>0.925500</td>\n",
       "      <td>0.925500</td>\n",
       "      <td>0.9255</td>\n",
       "    </tr>\n",
       "    <tr>\n",
       "      <th>macro avg</th>\n",
       "      <td>0.924663</td>\n",
       "      <td>0.924421</td>\n",
       "      <td>0.924435</td>\n",
       "      <td>10000.0000</td>\n",
       "    </tr>\n",
       "    <tr>\n",
       "      <th>weighted avg</th>\n",
       "      <td>0.925473</td>\n",
       "      <td>0.925500</td>\n",
       "      <td>0.925383</td>\n",
       "      <td>10000.0000</td>\n",
       "    </tr>\n",
       "  </tbody>\n",
       "</table>\n",
       "</div>"
      ],
      "text/plain": [
       "              precision    recall  f1-score     support\n",
       "0              0.954410  0.982653  0.968326    980.0000\n",
       "1              0.967798  0.979736  0.973730   1135.0000\n",
       "2              0.929719  0.897287  0.913215   1032.0000\n",
       "3              0.903353  0.906931  0.905138   1010.0000\n",
       "4              0.934292  0.926680  0.930470    982.0000\n",
       "5              0.903376  0.869955  0.886351    892.0000\n",
       "6              0.943005  0.949896  0.946438    958.0000\n",
       "7              0.931440  0.925097  0.928258   1028.0000\n",
       "8              0.867265  0.892197  0.879555    974.0000\n",
       "9              0.911968  0.913776  0.912871   1009.0000\n",
       "accuracy       0.925500  0.925500  0.925500      0.9255\n",
       "macro avg      0.924663  0.924421  0.924435  10000.0000\n",
       "weighted avg   0.925473  0.925500  0.925383  10000.0000"
      ]
     },
     "execution_count": 19,
     "metadata": {},
     "output_type": "execute_result"
    }
   ],
   "source": [
    "Logistic_ClassificationReport = pd.DataFrame(classification_report(y_test, Logistic_predictions, output_dict=True)).T\n",
    "Logistic_ClassificationReport"
   ]
  },
  {
   "cell_type": "code",
   "execution_count": 23,
   "id": "44f86ed9",
   "metadata": {},
   "outputs": [
    {
     "data": {
      "text/plain": [
       "0.9255"
      ]
     },
     "execution_count": 23,
     "metadata": {},
     "output_type": "execute_result"
    }
   ],
   "source": [
    "accuracy_score(y_test, Logistic_predictions)"
   ]
  },
  {
   "cell_type": "markdown",
   "id": "a14c6dd3",
   "metadata": {},
   "source": [
    "# Support Vector Classification"
   ]
  },
  {
   "cell_type": "code",
   "execution_count": 24,
   "id": "db49a2e8",
   "metadata": {},
   "outputs": [],
   "source": [
    "from sklearn.svm import LinearSVC"
   ]
  },
  {
   "cell_type": "code",
   "execution_count": 25,
   "id": "1b8da2c9",
   "metadata": {},
   "outputs": [
    {
     "data": {
      "text/plain": [
       "LinearSVC()"
      ]
     },
     "execution_count": 25,
     "metadata": {},
     "output_type": "execute_result"
    }
   ],
   "source": [
    "SVC_Model = LinearSVC()\n",
    "SVC_Model.fit(X_train, y_train)"
   ]
  },
  {
   "cell_type": "code",
   "execution_count": 26,
   "id": "3e17fa27",
   "metadata": {},
   "outputs": [],
   "source": [
    "SVC_Predictions = SVC_Model.predict(X_test)"
   ]
  },
  {
   "cell_type": "code",
   "execution_count": 27,
   "id": "4a21613d",
   "metadata": {},
   "outputs": [
    {
     "data": {
      "text/plain": [
       "array([[ 924,    0,   11,    2,    4,   27,    6,    3,    2,    1],\n",
       "       [   0, 1107,   19,    0,    1,    4,    3,    0,    0,    1],\n",
       "       [   2,   17,  954,    3,   13,   20,   11,    3,    8,    1],\n",
       "       [   7,    5,   69,  732,    5,  160,    2,    8,   10,   12],\n",
       "       [   0,    2,   11,    1,  925,    2,    8,    2,    4,   27],\n",
       "       [   8,    1,   14,    9,   10,  820,    9,    3,   10,    8],\n",
       "       [   9,    2,   22,    1,    6,   53,  864,    1,    0,    0],\n",
       "       [   0,   13,   40,    6,   25,    9,    0,  861,    2,   72],\n",
       "       [   6,   29,   49,   23,   23,  355,   11,    5,  436,   37],\n",
       "       [   3,   10,    5,    8,   75,   34,    0,   17,    1,  856]],\n",
       "      dtype=int64)"
      ]
     },
     "execution_count": 27,
     "metadata": {},
     "output_type": "execute_result"
    }
   ],
   "source": [
    "SVC_confusionMatrix = confusion_matrix(y_test,SVC_Predictions)\n",
    "SVC_confusionMatrix"
   ]
  },
  {
   "cell_type": "code",
   "execution_count": 28,
   "id": "f52b9d80",
   "metadata": {},
   "outputs": [
    {
     "data": {
      "text/html": [
       "<div>\n",
       "<style scoped>\n",
       "    .dataframe tbody tr th:only-of-type {\n",
       "        vertical-align: middle;\n",
       "    }\n",
       "\n",
       "    .dataframe tbody tr th {\n",
       "        vertical-align: top;\n",
       "    }\n",
       "\n",
       "    .dataframe thead th {\n",
       "        text-align: right;\n",
       "    }\n",
       "</style>\n",
       "<table border=\"1\" class=\"dataframe\">\n",
       "  <thead>\n",
       "    <tr style=\"text-align: right;\">\n",
       "      <th></th>\n",
       "      <th>precision</th>\n",
       "      <th>recall</th>\n",
       "      <th>f1-score</th>\n",
       "      <th>support</th>\n",
       "    </tr>\n",
       "  </thead>\n",
       "  <tbody>\n",
       "    <tr>\n",
       "      <th>0</th>\n",
       "      <td>0.963504</td>\n",
       "      <td>0.942857</td>\n",
       "      <td>0.953069</td>\n",
       "      <td>980.0000</td>\n",
       "    </tr>\n",
       "    <tr>\n",
       "      <th>1</th>\n",
       "      <td>0.933390</td>\n",
       "      <td>0.975330</td>\n",
       "      <td>0.953899</td>\n",
       "      <td>1135.0000</td>\n",
       "    </tr>\n",
       "    <tr>\n",
       "      <th>2</th>\n",
       "      <td>0.798995</td>\n",
       "      <td>0.924419</td>\n",
       "      <td>0.857143</td>\n",
       "      <td>1032.0000</td>\n",
       "    </tr>\n",
       "    <tr>\n",
       "      <th>3</th>\n",
       "      <td>0.932484</td>\n",
       "      <td>0.724752</td>\n",
       "      <td>0.815599</td>\n",
       "      <td>1010.0000</td>\n",
       "    </tr>\n",
       "    <tr>\n",
       "      <th>4</th>\n",
       "      <td>0.850966</td>\n",
       "      <td>0.941955</td>\n",
       "      <td>0.894152</td>\n",
       "      <td>982.0000</td>\n",
       "    </tr>\n",
       "    <tr>\n",
       "      <th>5</th>\n",
       "      <td>0.552561</td>\n",
       "      <td>0.919283</td>\n",
       "      <td>0.690236</td>\n",
       "      <td>892.0000</td>\n",
       "    </tr>\n",
       "    <tr>\n",
       "      <th>6</th>\n",
       "      <td>0.945295</td>\n",
       "      <td>0.901879</td>\n",
       "      <td>0.923077</td>\n",
       "      <td>958.0000</td>\n",
       "    </tr>\n",
       "    <tr>\n",
       "      <th>7</th>\n",
       "      <td>0.953488</td>\n",
       "      <td>0.837549</td>\n",
       "      <td>0.891766</td>\n",
       "      <td>1028.0000</td>\n",
       "    </tr>\n",
       "    <tr>\n",
       "      <th>8</th>\n",
       "      <td>0.921776</td>\n",
       "      <td>0.447639</td>\n",
       "      <td>0.602626</td>\n",
       "      <td>974.0000</td>\n",
       "    </tr>\n",
       "    <tr>\n",
       "      <th>9</th>\n",
       "      <td>0.843350</td>\n",
       "      <td>0.848365</td>\n",
       "      <td>0.845850</td>\n",
       "      <td>1009.0000</td>\n",
       "    </tr>\n",
       "    <tr>\n",
       "      <th>accuracy</th>\n",
       "      <td>0.847900</td>\n",
       "      <td>0.847900</td>\n",
       "      <td>0.847900</td>\n",
       "      <td>0.8479</td>\n",
       "    </tr>\n",
       "    <tr>\n",
       "      <th>macro avg</th>\n",
       "      <td>0.869581</td>\n",
       "      <td>0.846403</td>\n",
       "      <td>0.842742</td>\n",
       "      <td>10000.0000</td>\n",
       "    </tr>\n",
       "    <tr>\n",
       "      <th>weighted avg</th>\n",
       "      <td>0.873306</td>\n",
       "      <td>0.847900</td>\n",
       "      <td>0.846022</td>\n",
       "      <td>10000.0000</td>\n",
       "    </tr>\n",
       "  </tbody>\n",
       "</table>\n",
       "</div>"
      ],
      "text/plain": [
       "              precision    recall  f1-score     support\n",
       "0              0.963504  0.942857  0.953069    980.0000\n",
       "1              0.933390  0.975330  0.953899   1135.0000\n",
       "2              0.798995  0.924419  0.857143   1032.0000\n",
       "3              0.932484  0.724752  0.815599   1010.0000\n",
       "4              0.850966  0.941955  0.894152    982.0000\n",
       "5              0.552561  0.919283  0.690236    892.0000\n",
       "6              0.945295  0.901879  0.923077    958.0000\n",
       "7              0.953488  0.837549  0.891766   1028.0000\n",
       "8              0.921776  0.447639  0.602626    974.0000\n",
       "9              0.843350  0.848365  0.845850   1009.0000\n",
       "accuracy       0.847900  0.847900  0.847900      0.8479\n",
       "macro avg      0.869581  0.846403  0.842742  10000.0000\n",
       "weighted avg   0.873306  0.847900  0.846022  10000.0000"
      ]
     },
     "execution_count": 28,
     "metadata": {},
     "output_type": "execute_result"
    }
   ],
   "source": [
    "SVC_ClassificationReport = pd.DataFrame(classification_report(y_test, SVC_Predictions, output_dict=True)).T\n",
    "SVC_ClassificationReport"
   ]
  },
  {
   "cell_type": "code",
   "execution_count": 29,
   "id": "7b14b1a2",
   "metadata": {},
   "outputs": [
    {
     "data": {
      "text/plain": [
       "0.8479"
      ]
     },
     "execution_count": 29,
     "metadata": {},
     "output_type": "execute_result"
    }
   ],
   "source": [
    "accuracy_score(y_test, SVC_Predictions)"
   ]
  },
  {
   "cell_type": "markdown",
   "id": "752917e3",
   "metadata": {},
   "source": [
    "# KNN Classifier"
   ]
  },
  {
   "cell_type": "code",
   "execution_count": 30,
   "id": "b2a603e9",
   "metadata": {},
   "outputs": [],
   "source": [
    "from sklearn.neighbors import KNeighborsClassifier"
   ]
  },
  {
   "cell_type": "code",
   "execution_count": 31,
   "id": "a2246902",
   "metadata": {},
   "outputs": [
    {
     "data": {
      "text/plain": [
       "KNeighborsClassifier()"
      ]
     },
     "execution_count": 31,
     "metadata": {},
     "output_type": "execute_result"
    }
   ],
   "source": [
    "KNN_Model = KNeighborsClassifier()\n",
    "KNN_Model.fit(X_train, y_train)"
   ]
  },
  {
   "cell_type": "code",
   "execution_count": 32,
   "id": "782475d2",
   "metadata": {},
   "outputs": [],
   "source": [
    "KNN_Predictions = KNN_Model.predict(X_test)"
   ]
  },
  {
   "cell_type": "code",
   "execution_count": 33,
   "id": "4fcab0bc",
   "metadata": {},
   "outputs": [
    {
     "data": {
      "text/plain": [
       "array([[ 974,    1,    1,    0,    0,    1,    2,    1,    0,    0],\n",
       "       [   0, 1133,    2,    0,    0,    0,    0,    0,    0,    0],\n",
       "       [  11,    8,  991,    2,    1,    0,    1,   15,    3,    0],\n",
       "       [   0,    3,    3,  976,    1,   13,    1,    6,    3,    4],\n",
       "       [   3,    7,    0,    0,  944,    0,    4,    2,    1,   21],\n",
       "       [   5,    0,    0,   12,    2,  862,    4,    1,    2,    4],\n",
       "       [   5,    3,    0,    0,    3,    2,  945,    0,    0,    0],\n",
       "       [   0,   22,    4,    0,    3,    0,    0,  988,    0,   11],\n",
       "       [   8,    3,    5,   13,    6,   12,    5,    5,  913,    4],\n",
       "       [   5,    7,    3,    9,    7,    3,    1,   10,    2,  962]],\n",
       "      dtype=int64)"
      ]
     },
     "execution_count": 33,
     "metadata": {},
     "output_type": "execute_result"
    }
   ],
   "source": [
    "KNN_confusionMatrix = confusion_matrix(y_test,KNN_Predictions)\n",
    "KNN_confusionMatrix"
   ]
  },
  {
   "cell_type": "code",
   "execution_count": 34,
   "id": "27d309fa",
   "metadata": {},
   "outputs": [
    {
     "data": {
      "text/html": [
       "<div>\n",
       "<style scoped>\n",
       "    .dataframe tbody tr th:only-of-type {\n",
       "        vertical-align: middle;\n",
       "    }\n",
       "\n",
       "    .dataframe tbody tr th {\n",
       "        vertical-align: top;\n",
       "    }\n",
       "\n",
       "    .dataframe thead th {\n",
       "        text-align: right;\n",
       "    }\n",
       "</style>\n",
       "<table border=\"1\" class=\"dataframe\">\n",
       "  <thead>\n",
       "    <tr style=\"text-align: right;\">\n",
       "      <th></th>\n",
       "      <th>precision</th>\n",
       "      <th>recall</th>\n",
       "      <th>f1-score</th>\n",
       "      <th>support</th>\n",
       "    </tr>\n",
       "  </thead>\n",
       "  <tbody>\n",
       "    <tr>\n",
       "      <th>0</th>\n",
       "      <td>0.963403</td>\n",
       "      <td>0.993878</td>\n",
       "      <td>0.978403</td>\n",
       "      <td>980.0000</td>\n",
       "    </tr>\n",
       "    <tr>\n",
       "      <th>1</th>\n",
       "      <td>0.954507</td>\n",
       "      <td>0.998238</td>\n",
       "      <td>0.975883</td>\n",
       "      <td>1135.0000</td>\n",
       "    </tr>\n",
       "    <tr>\n",
       "      <th>2</th>\n",
       "      <td>0.982161</td>\n",
       "      <td>0.960271</td>\n",
       "      <td>0.971093</td>\n",
       "      <td>1032.0000</td>\n",
       "    </tr>\n",
       "    <tr>\n",
       "      <th>3</th>\n",
       "      <td>0.964427</td>\n",
       "      <td>0.966337</td>\n",
       "      <td>0.965381</td>\n",
       "      <td>1010.0000</td>\n",
       "    </tr>\n",
       "    <tr>\n",
       "      <th>4</th>\n",
       "      <td>0.976215</td>\n",
       "      <td>0.961303</td>\n",
       "      <td>0.968702</td>\n",
       "      <td>982.0000</td>\n",
       "    </tr>\n",
       "    <tr>\n",
       "      <th>5</th>\n",
       "      <td>0.965286</td>\n",
       "      <td>0.966368</td>\n",
       "      <td>0.965826</td>\n",
       "      <td>892.0000</td>\n",
       "    </tr>\n",
       "    <tr>\n",
       "      <th>6</th>\n",
       "      <td>0.981308</td>\n",
       "      <td>0.986430</td>\n",
       "      <td>0.983863</td>\n",
       "      <td>958.0000</td>\n",
       "    </tr>\n",
       "    <tr>\n",
       "      <th>7</th>\n",
       "      <td>0.961089</td>\n",
       "      <td>0.961089</td>\n",
       "      <td>0.961089</td>\n",
       "      <td>1028.0000</td>\n",
       "    </tr>\n",
       "    <tr>\n",
       "      <th>8</th>\n",
       "      <td>0.988095</td>\n",
       "      <td>0.937372</td>\n",
       "      <td>0.962065</td>\n",
       "      <td>974.0000</td>\n",
       "    </tr>\n",
       "    <tr>\n",
       "      <th>9</th>\n",
       "      <td>0.956262</td>\n",
       "      <td>0.953419</td>\n",
       "      <td>0.954839</td>\n",
       "      <td>1009.0000</td>\n",
       "    </tr>\n",
       "    <tr>\n",
       "      <th>accuracy</th>\n",
       "      <td>0.968800</td>\n",
       "      <td>0.968800</td>\n",
       "      <td>0.968800</td>\n",
       "      <td>0.9688</td>\n",
       "    </tr>\n",
       "    <tr>\n",
       "      <th>macro avg</th>\n",
       "      <td>0.969275</td>\n",
       "      <td>0.968471</td>\n",
       "      <td>0.968714</td>\n",
       "      <td>10000.0000</td>\n",
       "    </tr>\n",
       "    <tr>\n",
       "      <th>weighted avg</th>\n",
       "      <td>0.969021</td>\n",
       "      <td>0.968800</td>\n",
       "      <td>0.968747</td>\n",
       "      <td>10000.0000</td>\n",
       "    </tr>\n",
       "  </tbody>\n",
       "</table>\n",
       "</div>"
      ],
      "text/plain": [
       "              precision    recall  f1-score     support\n",
       "0              0.963403  0.993878  0.978403    980.0000\n",
       "1              0.954507  0.998238  0.975883   1135.0000\n",
       "2              0.982161  0.960271  0.971093   1032.0000\n",
       "3              0.964427  0.966337  0.965381   1010.0000\n",
       "4              0.976215  0.961303  0.968702    982.0000\n",
       "5              0.965286  0.966368  0.965826    892.0000\n",
       "6              0.981308  0.986430  0.983863    958.0000\n",
       "7              0.961089  0.961089  0.961089   1028.0000\n",
       "8              0.988095  0.937372  0.962065    974.0000\n",
       "9              0.956262  0.953419  0.954839   1009.0000\n",
       "accuracy       0.968800  0.968800  0.968800      0.9688\n",
       "macro avg      0.969275  0.968471  0.968714  10000.0000\n",
       "weighted avg   0.969021  0.968800  0.968747  10000.0000"
      ]
     },
     "execution_count": 34,
     "metadata": {},
     "output_type": "execute_result"
    }
   ],
   "source": [
    "KNN_ClassificationReport = pd.DataFrame(classification_report(y_test, KNN_Predictions, output_dict=True)).T\n",
    "KNN_ClassificationReport"
   ]
  },
  {
   "cell_type": "code",
   "execution_count": 35,
   "id": "404a4d07",
   "metadata": {},
   "outputs": [
    {
     "data": {
      "text/plain": [
       "0.9688"
      ]
     },
     "execution_count": 35,
     "metadata": {},
     "output_type": "execute_result"
    }
   ],
   "source": [
    "accuracy_score(y_test, KNN_Predictions)"
   ]
  },
  {
   "cell_type": "markdown",
   "id": "b920b551",
   "metadata": {},
   "source": [
    "# Decision Tree Classifier"
   ]
  },
  {
   "cell_type": "code",
   "execution_count": 36,
   "id": "2516837a",
   "metadata": {},
   "outputs": [],
   "source": [
    "from sklearn.tree import DecisionTreeClassifier"
   ]
  },
  {
   "cell_type": "code",
   "execution_count": 37,
   "id": "7ae127f1",
   "metadata": {},
   "outputs": [
    {
     "data": {
      "text/plain": [
       "DecisionTreeClassifier()"
      ]
     },
     "execution_count": 37,
     "metadata": {},
     "output_type": "execute_result"
    }
   ],
   "source": [
    "DT_Model = DecisionTreeClassifier()\n",
    "DT_Model.fit(X_train, y_train)"
   ]
  },
  {
   "cell_type": "code",
   "execution_count": 38,
   "id": "78e4b597",
   "metadata": {},
   "outputs": [],
   "source": [
    "DT_Predictions = DT_Model.predict(X_test)"
   ]
  },
  {
   "cell_type": "code",
   "execution_count": 39,
   "id": "69e634b0",
   "metadata": {},
   "outputs": [
    {
     "data": {
      "text/plain": [
       "array([[ 915,    1,    8,   10,    4,   12,   10,    5,    8,    7],\n",
       "       [   3, 1090,    8,    3,    4,    6,    5,    3,   11,    2],\n",
       "       [  11,   11,  880,   38,   12,    9,   15,   25,   26,    5],\n",
       "       [   4,    4,   25,  873,    8,   44,    3,    7,   25,   17],\n",
       "       [   4,    4,    8,    5,  869,    8,   14,    6,   20,   44],\n",
       "       [  16,   10,    4,   43,    7,  748,   23,    5,   22,   14],\n",
       "       [  21,    3,   10,    9,   23,   25,  838,    0,   23,    6],\n",
       "       [   2,    9,   28,   17,    6,    2,    3,  930,    8,   23],\n",
       "       [  12,    7,   25,   37,   22,   32,   17,   11,  781,   30],\n",
       "       [  12,    3,    7,   22,   41,   10,    7,   20,   23,  864]],\n",
       "      dtype=int64)"
      ]
     },
     "execution_count": 39,
     "metadata": {},
     "output_type": "execute_result"
    }
   ],
   "source": [
    "DT_confusionMatrix = confusion_matrix(y_test,DT_Predictions)\n",
    "DT_confusionMatrix"
   ]
  },
  {
   "cell_type": "code",
   "execution_count": 40,
   "id": "46d50497",
   "metadata": {},
   "outputs": [
    {
     "data": {
      "text/html": [
       "<div>\n",
       "<style scoped>\n",
       "    .dataframe tbody tr th:only-of-type {\n",
       "        vertical-align: middle;\n",
       "    }\n",
       "\n",
       "    .dataframe tbody tr th {\n",
       "        vertical-align: top;\n",
       "    }\n",
       "\n",
       "    .dataframe thead th {\n",
       "        text-align: right;\n",
       "    }\n",
       "</style>\n",
       "<table border=\"1\" class=\"dataframe\">\n",
       "  <thead>\n",
       "    <tr style=\"text-align: right;\">\n",
       "      <th></th>\n",
       "      <th>precision</th>\n",
       "      <th>recall</th>\n",
       "      <th>f1-score</th>\n",
       "      <th>support</th>\n",
       "    </tr>\n",
       "  </thead>\n",
       "  <tbody>\n",
       "    <tr>\n",
       "      <th>0</th>\n",
       "      <td>0.915000</td>\n",
       "      <td>0.933673</td>\n",
       "      <td>0.924242</td>\n",
       "      <td>980.0000</td>\n",
       "    </tr>\n",
       "    <tr>\n",
       "      <th>1</th>\n",
       "      <td>0.954466</td>\n",
       "      <td>0.960352</td>\n",
       "      <td>0.957400</td>\n",
       "      <td>1135.0000</td>\n",
       "    </tr>\n",
       "    <tr>\n",
       "      <th>2</th>\n",
       "      <td>0.877368</td>\n",
       "      <td>0.852713</td>\n",
       "      <td>0.864865</td>\n",
       "      <td>1032.0000</td>\n",
       "    </tr>\n",
       "    <tr>\n",
       "      <th>3</th>\n",
       "      <td>0.825922</td>\n",
       "      <td>0.864356</td>\n",
       "      <td>0.844702</td>\n",
       "      <td>1010.0000</td>\n",
       "    </tr>\n",
       "    <tr>\n",
       "      <th>4</th>\n",
       "      <td>0.872490</td>\n",
       "      <td>0.884929</td>\n",
       "      <td>0.878665</td>\n",
       "      <td>982.0000</td>\n",
       "    </tr>\n",
       "    <tr>\n",
       "      <th>5</th>\n",
       "      <td>0.834821</td>\n",
       "      <td>0.838565</td>\n",
       "      <td>0.836689</td>\n",
       "      <td>892.0000</td>\n",
       "    </tr>\n",
       "    <tr>\n",
       "      <th>6</th>\n",
       "      <td>0.896257</td>\n",
       "      <td>0.874739</td>\n",
       "      <td>0.885367</td>\n",
       "      <td>958.0000</td>\n",
       "    </tr>\n",
       "    <tr>\n",
       "      <th>7</th>\n",
       "      <td>0.918972</td>\n",
       "      <td>0.904669</td>\n",
       "      <td>0.911765</td>\n",
       "      <td>1028.0000</td>\n",
       "    </tr>\n",
       "    <tr>\n",
       "      <th>8</th>\n",
       "      <td>0.824710</td>\n",
       "      <td>0.801848</td>\n",
       "      <td>0.813118</td>\n",
       "      <td>974.0000</td>\n",
       "    </tr>\n",
       "    <tr>\n",
       "      <th>9</th>\n",
       "      <td>0.853755</td>\n",
       "      <td>0.856293</td>\n",
       "      <td>0.855022</td>\n",
       "      <td>1009.0000</td>\n",
       "    </tr>\n",
       "    <tr>\n",
       "      <th>accuracy</th>\n",
       "      <td>0.878800</td>\n",
       "      <td>0.878800</td>\n",
       "      <td>0.878800</td>\n",
       "      <td>0.8788</td>\n",
       "    </tr>\n",
       "    <tr>\n",
       "      <th>macro avg</th>\n",
       "      <td>0.877376</td>\n",
       "      <td>0.877214</td>\n",
       "      <td>0.877184</td>\n",
       "      <td>10000.0000</td>\n",
       "    </tr>\n",
       "    <tr>\n",
       "      <th>weighted avg</th>\n",
       "      <td>0.878911</td>\n",
       "      <td>0.878800</td>\n",
       "      <td>0.878744</td>\n",
       "      <td>10000.0000</td>\n",
       "    </tr>\n",
       "  </tbody>\n",
       "</table>\n",
       "</div>"
      ],
      "text/plain": [
       "              precision    recall  f1-score     support\n",
       "0              0.915000  0.933673  0.924242    980.0000\n",
       "1              0.954466  0.960352  0.957400   1135.0000\n",
       "2              0.877368  0.852713  0.864865   1032.0000\n",
       "3              0.825922  0.864356  0.844702   1010.0000\n",
       "4              0.872490  0.884929  0.878665    982.0000\n",
       "5              0.834821  0.838565  0.836689    892.0000\n",
       "6              0.896257  0.874739  0.885367    958.0000\n",
       "7              0.918972  0.904669  0.911765   1028.0000\n",
       "8              0.824710  0.801848  0.813118    974.0000\n",
       "9              0.853755  0.856293  0.855022   1009.0000\n",
       "accuracy       0.878800  0.878800  0.878800      0.8788\n",
       "macro avg      0.877376  0.877214  0.877184  10000.0000\n",
       "weighted avg   0.878911  0.878800  0.878744  10000.0000"
      ]
     },
     "execution_count": 40,
     "metadata": {},
     "output_type": "execute_result"
    }
   ],
   "source": [
    "DT_ClassificationReport = pd.DataFrame(classification_report(y_test, DT_Predictions, output_dict=True)).T\n",
    "DT_ClassificationReport"
   ]
  },
  {
   "cell_type": "code",
   "execution_count": 41,
   "id": "9974476a",
   "metadata": {},
   "outputs": [
    {
     "data": {
      "text/plain": [
       "0.8788"
      ]
     },
     "execution_count": 41,
     "metadata": {},
     "output_type": "execute_result"
    }
   ],
   "source": [
    "accuracy_score(y_test,DT_Predictions)"
   ]
  },
  {
   "cell_type": "markdown",
   "id": "d215e21b",
   "metadata": {},
   "source": [
    "# Random Forest Classifier"
   ]
  },
  {
   "cell_type": "code",
   "execution_count": 42,
   "id": "d58bf5de",
   "metadata": {},
   "outputs": [],
   "source": [
    "from sklearn.ensemble import RandomForestClassifier"
   ]
  },
  {
   "cell_type": "code",
   "execution_count": 43,
   "id": "cc488f50",
   "metadata": {},
   "outputs": [
    {
     "data": {
      "text/plain": [
       "RandomForestClassifier()"
      ]
     },
     "execution_count": 43,
     "metadata": {},
     "output_type": "execute_result"
    }
   ],
   "source": [
    "RF_Model = RandomForestClassifier()\n",
    "RF_Model.fit(X_train, y_train)"
   ]
  },
  {
   "cell_type": "code",
   "execution_count": 44,
   "id": "45010bbf",
   "metadata": {},
   "outputs": [],
   "source": [
    "RF_Predictions = RF_Model.predict(X_test)"
   ]
  },
  {
   "cell_type": "code",
   "execution_count": 45,
   "id": "6d704a1d",
   "metadata": {},
   "outputs": [
    {
     "data": {
      "text/plain": [
       "array([[ 969,    0,    0,    0,    0,    2,    4,    1,    4,    0],\n",
       "       [   0, 1126,    2,    1,    0,    2,    2,    0,    1,    1],\n",
       "       [   6,    0, 1000,    5,    3,    0,    4,    8,    6,    0],\n",
       "       [   0,    0,    9,  972,    0,    8,    0,   10,    7,    4],\n",
       "       [   1,    0,    0,    0,  955,    0,    5,    0,    3,   18],\n",
       "       [   3,    0,    0,   14,    2,  859,    7,    2,    3,    2],\n",
       "       [   6,    3,    0,    0,    4,    4,  938,    0,    3,    0],\n",
       "       [   1,    2,   21,    0,    0,    1,    0,  991,    1,   11],\n",
       "       [   4,    0,    6,    6,    5,    7,    2,    4,  931,    9],\n",
       "       [   5,    4,    2,   12,   11,    3,    1,    3,    6,  962]],\n",
       "      dtype=int64)"
      ]
     },
     "execution_count": 45,
     "metadata": {},
     "output_type": "execute_result"
    }
   ],
   "source": [
    "RF_confusionMatrix = confusion_matrix(y_test,RF_Predictions)\n",
    "RF_confusionMatrix"
   ]
  },
  {
   "cell_type": "code",
   "execution_count": 46,
   "id": "1fe48817",
   "metadata": {},
   "outputs": [
    {
     "data": {
      "text/html": [
       "<div>\n",
       "<style scoped>\n",
       "    .dataframe tbody tr th:only-of-type {\n",
       "        vertical-align: middle;\n",
       "    }\n",
       "\n",
       "    .dataframe tbody tr th {\n",
       "        vertical-align: top;\n",
       "    }\n",
       "\n",
       "    .dataframe thead th {\n",
       "        text-align: right;\n",
       "    }\n",
       "</style>\n",
       "<table border=\"1\" class=\"dataframe\">\n",
       "  <thead>\n",
       "    <tr style=\"text-align: right;\">\n",
       "      <th></th>\n",
       "      <th>precision</th>\n",
       "      <th>recall</th>\n",
       "      <th>f1-score</th>\n",
       "      <th>support</th>\n",
       "    </tr>\n",
       "  </thead>\n",
       "  <tbody>\n",
       "    <tr>\n",
       "      <th>0</th>\n",
       "      <td>0.973869</td>\n",
       "      <td>0.988776</td>\n",
       "      <td>0.981266</td>\n",
       "      <td>980.0000</td>\n",
       "    </tr>\n",
       "    <tr>\n",
       "      <th>1</th>\n",
       "      <td>0.992070</td>\n",
       "      <td>0.992070</td>\n",
       "      <td>0.992070</td>\n",
       "      <td>1135.0000</td>\n",
       "    </tr>\n",
       "    <tr>\n",
       "      <th>2</th>\n",
       "      <td>0.961538</td>\n",
       "      <td>0.968992</td>\n",
       "      <td>0.965251</td>\n",
       "      <td>1032.0000</td>\n",
       "    </tr>\n",
       "    <tr>\n",
       "      <th>3</th>\n",
       "      <td>0.962376</td>\n",
       "      <td>0.962376</td>\n",
       "      <td>0.962376</td>\n",
       "      <td>1010.0000</td>\n",
       "    </tr>\n",
       "    <tr>\n",
       "      <th>4</th>\n",
       "      <td>0.974490</td>\n",
       "      <td>0.972505</td>\n",
       "      <td>0.973496</td>\n",
       "      <td>982.0000</td>\n",
       "    </tr>\n",
       "    <tr>\n",
       "      <th>5</th>\n",
       "      <td>0.969526</td>\n",
       "      <td>0.963004</td>\n",
       "      <td>0.966254</td>\n",
       "      <td>892.0000</td>\n",
       "    </tr>\n",
       "    <tr>\n",
       "      <th>6</th>\n",
       "      <td>0.974039</td>\n",
       "      <td>0.979123</td>\n",
       "      <td>0.976575</td>\n",
       "      <td>958.0000</td>\n",
       "    </tr>\n",
       "    <tr>\n",
       "      <th>7</th>\n",
       "      <td>0.972522</td>\n",
       "      <td>0.964008</td>\n",
       "      <td>0.968246</td>\n",
       "      <td>1028.0000</td>\n",
       "    </tr>\n",
       "    <tr>\n",
       "      <th>8</th>\n",
       "      <td>0.964767</td>\n",
       "      <td>0.955852</td>\n",
       "      <td>0.960289</td>\n",
       "      <td>974.0000</td>\n",
       "    </tr>\n",
       "    <tr>\n",
       "      <th>9</th>\n",
       "      <td>0.955313</td>\n",
       "      <td>0.953419</td>\n",
       "      <td>0.954365</td>\n",
       "      <td>1009.0000</td>\n",
       "    </tr>\n",
       "    <tr>\n",
       "      <th>accuracy</th>\n",
       "      <td>0.970300</td>\n",
       "      <td>0.970300</td>\n",
       "      <td>0.970300</td>\n",
       "      <td>0.9703</td>\n",
       "    </tr>\n",
       "    <tr>\n",
       "      <th>macro avg</th>\n",
       "      <td>0.970051</td>\n",
       "      <td>0.970013</td>\n",
       "      <td>0.970019</td>\n",
       "      <td>10000.0000</td>\n",
       "    </tr>\n",
       "    <tr>\n",
       "      <th>weighted avg</th>\n",
       "      <td>0.970294</td>\n",
       "      <td>0.970300</td>\n",
       "      <td>0.970284</td>\n",
       "      <td>10000.0000</td>\n",
       "    </tr>\n",
       "  </tbody>\n",
       "</table>\n",
       "</div>"
      ],
      "text/plain": [
       "              precision    recall  f1-score     support\n",
       "0              0.973869  0.988776  0.981266    980.0000\n",
       "1              0.992070  0.992070  0.992070   1135.0000\n",
       "2              0.961538  0.968992  0.965251   1032.0000\n",
       "3              0.962376  0.962376  0.962376   1010.0000\n",
       "4              0.974490  0.972505  0.973496    982.0000\n",
       "5              0.969526  0.963004  0.966254    892.0000\n",
       "6              0.974039  0.979123  0.976575    958.0000\n",
       "7              0.972522  0.964008  0.968246   1028.0000\n",
       "8              0.964767  0.955852  0.960289    974.0000\n",
       "9              0.955313  0.953419  0.954365   1009.0000\n",
       "accuracy       0.970300  0.970300  0.970300      0.9703\n",
       "macro avg      0.970051  0.970013  0.970019  10000.0000\n",
       "weighted avg   0.970294  0.970300  0.970284  10000.0000"
      ]
     },
     "execution_count": 46,
     "metadata": {},
     "output_type": "execute_result"
    }
   ],
   "source": [
    "RF_ClassificationReport = pd.DataFrame(classification_report(y_test, RF_Predictions, output_dict=True)).T\n",
    "RF_ClassificationReport"
   ]
  },
  {
   "cell_type": "code",
   "execution_count": 47,
   "id": "8dd70b31",
   "metadata": {},
   "outputs": [
    {
     "data": {
      "text/plain": [
       "0.9703"
      ]
     },
     "execution_count": 47,
     "metadata": {},
     "output_type": "execute_result"
    }
   ],
   "source": [
    "accuracy_score(y_test,RF_Predictions)"
   ]
  },
  {
   "cell_type": "markdown",
   "id": "753f4e7e",
   "metadata": {},
   "source": [
    "# Convolutional Neural Network"
   ]
  },
  {
   "cell_type": "code",
   "execution_count": 48,
   "id": "1c4e668f",
   "metadata": {},
   "outputs": [
    {
     "data": {
      "text/plain": [
       "(60000, 784)"
      ]
     },
     "execution_count": 48,
     "metadata": {},
     "output_type": "execute_result"
    }
   ],
   "source": [
    "X_train.shape"
   ]
  },
  {
   "cell_type": "code",
   "execution_count": 49,
   "id": "18886576",
   "metadata": {},
   "outputs": [],
   "source": [
    "X_train = X_train.reshape(60000,28,28,1)"
   ]
  },
  {
   "cell_type": "code",
   "execution_count": 50,
   "id": "4f09b752",
   "metadata": {},
   "outputs": [],
   "source": [
    "X_test = X_test.reshape(10000,28,28,1)"
   ]
  },
  {
   "cell_type": "code",
   "execution_count": 51,
   "id": "62f0b510",
   "metadata": {},
   "outputs": [
    {
     "data": {
      "text/plain": [
       "array([5, 0, 4, ..., 5, 6, 8], dtype=uint8)"
      ]
     },
     "execution_count": 51,
     "metadata": {},
     "output_type": "execute_result"
    }
   ],
   "source": [
    "y_train"
   ]
  },
  {
   "cell_type": "code",
   "execution_count": 52,
   "id": "e898a6ed",
   "metadata": {},
   "outputs": [],
   "source": [
    "from tensorflow.keras.utils import to_categorical"
   ]
  },
  {
   "cell_type": "code",
   "execution_count": 53,
   "id": "1003cabb",
   "metadata": {},
   "outputs": [],
   "source": [
    "y_cat_train = to_categorical(y_train)"
   ]
  },
  {
   "cell_type": "code",
   "execution_count": 54,
   "id": "bccf428d",
   "metadata": {},
   "outputs": [
    {
     "data": {
      "text/plain": [
       "array([[0., 0., 0., ..., 0., 0., 0.],\n",
       "       [1., 0., 0., ..., 0., 0., 0.],\n",
       "       [0., 0., 0., ..., 0., 0., 0.],\n",
       "       ...,\n",
       "       [0., 0., 0., ..., 0., 0., 0.],\n",
       "       [0., 0., 0., ..., 0., 0., 0.],\n",
       "       [0., 0., 0., ..., 0., 1., 0.]], dtype=float32)"
      ]
     },
     "execution_count": 54,
     "metadata": {},
     "output_type": "execute_result"
    }
   ],
   "source": [
    "y_cat_train"
   ]
  },
  {
   "cell_type": "code",
   "execution_count": 55,
   "id": "8d5afa81",
   "metadata": {},
   "outputs": [],
   "source": [
    "y_cat_test = to_categorical(y_test)"
   ]
  },
  {
   "cell_type": "code",
   "execution_count": 56,
   "id": "7318cdb1",
   "metadata": {},
   "outputs": [
    {
     "data": {
      "text/plain": [
       "array([[0., 0., 0., ..., 1., 0., 0.],\n",
       "       [0., 0., 1., ..., 0., 0., 0.],\n",
       "       [0., 1., 0., ..., 0., 0., 0.],\n",
       "       ...,\n",
       "       [0., 0., 0., ..., 0., 0., 0.],\n",
       "       [0., 0., 0., ..., 0., 0., 0.],\n",
       "       [0., 0., 0., ..., 0., 0., 0.]], dtype=float32)"
      ]
     },
     "execution_count": 56,
     "metadata": {},
     "output_type": "execute_result"
    }
   ],
   "source": [
    "y_cat_test"
   ]
  },
  {
   "cell_type": "code",
   "execution_count": 57,
   "id": "5313aab6",
   "metadata": {},
   "outputs": [],
   "source": [
    "from tensorflow.keras.models import Sequential\n",
    "from tensorflow.keras.layers import Conv2D, MaxPooling2D, Dense, Flatten"
   ]
  },
  {
   "cell_type": "code",
   "execution_count": 58,
   "id": "089428a2",
   "metadata": {},
   "outputs": [],
   "source": [
    "model = Sequential()\n",
    "model.add(Conv2D(filters=32, kernel_size=(4,4), input_shape = (28,28,1), activation='relu'))\n",
    "model.add(MaxPooling2D(pool_size=(2,2)))\n",
    "\n",
    "model.add(Flatten())\n",
    "\n",
    "model.add(Dense(128, activation='relu'))\n",
    "\n",
    "model.add(Dense(10, activation='softmax'))\n",
    "\n",
    "model.compile(loss='categorical_crossentropy', optimizer='adam', metrics = ['accuracy'])"
   ]
  },
  {
   "cell_type": "code",
   "execution_count": 59,
   "id": "9e03259d",
   "metadata": {},
   "outputs": [
    {
     "name": "stdout",
     "output_type": "stream",
     "text": [
      "Model: \"sequential\"\n",
      "_________________________________________________________________\n",
      " Layer (type)                Output Shape              Param #   \n",
      "=================================================================\n",
      " conv2d (Conv2D)             (None, 25, 25, 32)        544       \n",
      "                                                                 \n",
      " max_pooling2d (MaxPooling2D  (None, 12, 12, 32)       0         \n",
      " )                                                               \n",
      "                                                                 \n",
      " flatten (Flatten)           (None, 4608)              0         \n",
      "                                                                 \n",
      " dense (Dense)               (None, 128)               589952    \n",
      "                                                                 \n",
      " dense_1 (Dense)             (None, 10)                1290      \n",
      "                                                                 \n",
      "=================================================================\n",
      "Total params: 591,786\n",
      "Trainable params: 591,786\n",
      "Non-trainable params: 0\n",
      "_________________________________________________________________\n"
     ]
    }
   ],
   "source": [
    "model.summary()"
   ]
  },
  {
   "cell_type": "code",
   "execution_count": 60,
   "id": "387c3cc8",
   "metadata": {},
   "outputs": [
    {
     "name": "stdout",
     "output_type": "stream",
     "text": [
      "Epoch 1/10\n",
      "1875/1875 [==============================] - 23s 12ms/step - loss: 0.3193 - accuracy: 0.9475\n",
      "Epoch 2/10\n",
      "1875/1875 [==============================] - 23s 12ms/step - loss: 0.0717 - accuracy: 0.9781\n",
      "Epoch 3/10\n",
      "1875/1875 [==============================] - 24s 13ms/step - loss: 0.0567 - accuracy: 0.9830\n",
      "Epoch 4/10\n",
      "1875/1875 [==============================] - 23s 12ms/step - loss: 0.0434 - accuracy: 0.9864\n",
      "Epoch 5/10\n",
      "1875/1875 [==============================] - 25s 13ms/step - loss: 0.0380 - accuracy: 0.9885\n",
      "Epoch 6/10\n",
      "1875/1875 [==============================] - 23s 12ms/step - loss: 0.0306 - accuracy: 0.9912\n",
      "Epoch 7/10\n",
      "1875/1875 [==============================] - 23s 12ms/step - loss: 0.0306 - accuracy: 0.9921\n",
      "Epoch 8/10\n",
      "1875/1875 [==============================] - 23s 12ms/step - loss: 0.0281 - accuracy: 0.9925\n",
      "Epoch 9/10\n",
      "1875/1875 [==============================] - 23s 12ms/step - loss: 0.0218 - accuracy: 0.9944\n",
      "Epoch 10/10\n",
      "1875/1875 [==============================] - 23s 12ms/step - loss: 0.0243 - accuracy: 0.9941\n"
     ]
    },
    {
     "data": {
      "text/plain": [
       "<keras.callbacks.History at 0x283d07966d0>"
      ]
     },
     "execution_count": 60,
     "metadata": {},
     "output_type": "execute_result"
    }
   ],
   "source": [
    "model.fit(X_train,y_cat_train, epochs=10)"
   ]
  },
  {
   "cell_type": "code",
   "execution_count": 61,
   "id": "6d4f7345",
   "metadata": {},
   "outputs": [
    {
     "name": "stdout",
     "output_type": "stream",
     "text": [
      "313/313 [==============================] - 1s 4ms/step\n"
     ]
    }
   ],
   "source": [
    "CNN_Predictions = model.predict(X_test)\n",
    "CNN_Predictions = list(map(lambda i: np.argmax(i),CNN_Predictions))"
   ]
  },
  {
   "cell_type": "code",
   "execution_count": 62,
   "id": "a0605d91",
   "metadata": {},
   "outputs": [
    {
     "data": {
      "text/plain": [
       "array([[ 972,    0,    2,    0,    0,    0,    3,    0,    0,    3],\n",
       "       [   2, 1115,   10,    2,    0,    0,    1,    1,    4,    0],\n",
       "       [   2,    4, 1021,    1,    0,    0,    1,    2,    1,    0],\n",
       "       [   0,    0,    0,  999,    0,    4,    0,    4,    3,    0],\n",
       "       [   1,    0,    3,    0,  971,    0,    3,    0,    1,    3],\n",
       "       [   3,    1,    0,   11,    0,  869,    3,    0,    3,    2],\n",
       "       [   9,    4,    0,    2,    1,    5,  936,    0,    1,    0],\n",
       "       [   0,    3,   12,    1,    5,    0,    0, 1001,    3,    3],\n",
       "       [   5,    2,    4,    4,    3,    1,    0,    4,  945,    6],\n",
       "       [   2,    5,    1,    2,   11,    3,    0,    4,    4,  977]],\n",
       "      dtype=int64)"
      ]
     },
     "execution_count": 62,
     "metadata": {},
     "output_type": "execute_result"
    }
   ],
   "source": [
    "CNN_confusionMatrix = confusion_matrix(y_test, CNN_Predictions)\n",
    "CNN_confusionMatrix"
   ]
  },
  {
   "cell_type": "code",
   "execution_count": 63,
   "id": "199f2ed7",
   "metadata": {},
   "outputs": [
    {
     "data": {
      "text/html": [
       "<div>\n",
       "<style scoped>\n",
       "    .dataframe tbody tr th:only-of-type {\n",
       "        vertical-align: middle;\n",
       "    }\n",
       "\n",
       "    .dataframe tbody tr th {\n",
       "        vertical-align: top;\n",
       "    }\n",
       "\n",
       "    .dataframe thead th {\n",
       "        text-align: right;\n",
       "    }\n",
       "</style>\n",
       "<table border=\"1\" class=\"dataframe\">\n",
       "  <thead>\n",
       "    <tr style=\"text-align: right;\">\n",
       "      <th></th>\n",
       "      <th>precision</th>\n",
       "      <th>recall</th>\n",
       "      <th>f1-score</th>\n",
       "      <th>support</th>\n",
       "    </tr>\n",
       "  </thead>\n",
       "  <tbody>\n",
       "    <tr>\n",
       "      <th>0</th>\n",
       "      <td>0.975904</td>\n",
       "      <td>0.991837</td>\n",
       "      <td>0.983806</td>\n",
       "      <td>980.0000</td>\n",
       "    </tr>\n",
       "    <tr>\n",
       "      <th>1</th>\n",
       "      <td>0.983245</td>\n",
       "      <td>0.982379</td>\n",
       "      <td>0.982812</td>\n",
       "      <td>1135.0000</td>\n",
       "    </tr>\n",
       "    <tr>\n",
       "      <th>2</th>\n",
       "      <td>0.969611</td>\n",
       "      <td>0.989341</td>\n",
       "      <td>0.979376</td>\n",
       "      <td>1032.0000</td>\n",
       "    </tr>\n",
       "    <tr>\n",
       "      <th>3</th>\n",
       "      <td>0.977495</td>\n",
       "      <td>0.989109</td>\n",
       "      <td>0.983268</td>\n",
       "      <td>1010.0000</td>\n",
       "    </tr>\n",
       "    <tr>\n",
       "      <th>4</th>\n",
       "      <td>0.979818</td>\n",
       "      <td>0.988798</td>\n",
       "      <td>0.984288</td>\n",
       "      <td>982.0000</td>\n",
       "    </tr>\n",
       "    <tr>\n",
       "      <th>5</th>\n",
       "      <td>0.985261</td>\n",
       "      <td>0.974215</td>\n",
       "      <td>0.979707</td>\n",
       "      <td>892.0000</td>\n",
       "    </tr>\n",
       "    <tr>\n",
       "      <th>6</th>\n",
       "      <td>0.988384</td>\n",
       "      <td>0.977035</td>\n",
       "      <td>0.982677</td>\n",
       "      <td>958.0000</td>\n",
       "    </tr>\n",
       "    <tr>\n",
       "      <th>7</th>\n",
       "      <td>0.985236</td>\n",
       "      <td>0.973735</td>\n",
       "      <td>0.979452</td>\n",
       "      <td>1028.0000</td>\n",
       "    </tr>\n",
       "    <tr>\n",
       "      <th>8</th>\n",
       "      <td>0.979275</td>\n",
       "      <td>0.970226</td>\n",
       "      <td>0.974729</td>\n",
       "      <td>974.0000</td>\n",
       "    </tr>\n",
       "    <tr>\n",
       "      <th>9</th>\n",
       "      <td>0.982897</td>\n",
       "      <td>0.968285</td>\n",
       "      <td>0.975537</td>\n",
       "      <td>1009.0000</td>\n",
       "    </tr>\n",
       "    <tr>\n",
       "      <th>accuracy</th>\n",
       "      <td>0.980600</td>\n",
       "      <td>0.980600</td>\n",
       "      <td>0.980600</td>\n",
       "      <td>0.9806</td>\n",
       "    </tr>\n",
       "    <tr>\n",
       "      <th>macro avg</th>\n",
       "      <td>0.980713</td>\n",
       "      <td>0.980496</td>\n",
       "      <td>0.980565</td>\n",
       "      <td>10000.0000</td>\n",
       "    </tr>\n",
       "    <tr>\n",
       "      <th>weighted avg</th>\n",
       "      <td>0.980656</td>\n",
       "      <td>0.980600</td>\n",
       "      <td>0.980589</td>\n",
       "      <td>10000.0000</td>\n",
       "    </tr>\n",
       "  </tbody>\n",
       "</table>\n",
       "</div>"
      ],
      "text/plain": [
       "              precision    recall  f1-score     support\n",
       "0              0.975904  0.991837  0.983806    980.0000\n",
       "1              0.983245  0.982379  0.982812   1135.0000\n",
       "2              0.969611  0.989341  0.979376   1032.0000\n",
       "3              0.977495  0.989109  0.983268   1010.0000\n",
       "4              0.979818  0.988798  0.984288    982.0000\n",
       "5              0.985261  0.974215  0.979707    892.0000\n",
       "6              0.988384  0.977035  0.982677    958.0000\n",
       "7              0.985236  0.973735  0.979452   1028.0000\n",
       "8              0.979275  0.970226  0.974729    974.0000\n",
       "9              0.982897  0.968285  0.975537   1009.0000\n",
       "accuracy       0.980600  0.980600  0.980600      0.9806\n",
       "macro avg      0.980713  0.980496  0.980565  10000.0000\n",
       "weighted avg   0.980656  0.980600  0.980589  10000.0000"
      ]
     },
     "execution_count": 63,
     "metadata": {},
     "output_type": "execute_result"
    }
   ],
   "source": [
    "CNN_ClassificationReport = pd.DataFrame(classification_report(y_test, CNN_Predictions, output_dict=True)).T\n",
    "CNN_ClassificationReport"
   ]
  },
  {
   "cell_type": "code",
   "execution_count": 64,
   "id": "eebee939",
   "metadata": {},
   "outputs": [
    {
     "data": {
      "text/plain": [
       "0.9806"
      ]
     },
     "execution_count": 64,
     "metadata": {},
     "output_type": "execute_result"
    }
   ],
   "source": [
    "accuracy_score(y_test,CNN_Predictions)"
   ]
  },
  {
   "cell_type": "markdown",
   "id": "52291d57",
   "metadata": {},
   "source": [
    "CNN with Lenet-5 Architecture predicted better"
   ]
  },
  {
   "cell_type": "markdown",
   "id": "03b257dc",
   "metadata": {},
   "source": [
    "# Thank You"
   ]
  },
  {
   "cell_type": "code",
   "execution_count": null,
   "id": "574ca2da",
   "metadata": {},
   "outputs": [],
   "source": []
  }
 ],
 "metadata": {
  "kernelspec": {
   "display_name": "Python 3 (ipykernel)",
   "language": "python",
   "name": "python3"
  },
  "language_info": {
   "codemirror_mode": {
    "name": "ipython",
    "version": 3
   },
   "file_extension": ".py",
   "mimetype": "text/x-python",
   "name": "python",
   "nbconvert_exporter": "python",
   "pygments_lexer": "ipython3",
   "version": "3.9.12"
  }
 },
 "nbformat": 4,
 "nbformat_minor": 5
}
